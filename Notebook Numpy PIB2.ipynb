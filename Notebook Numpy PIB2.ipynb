{
 "cells": [
  {
   "cell_type": "markdown",
   "metadata": {},
   "source": [
    "**ChatGPT is forbidden**"
   ]
  },
  {
   "cell_type": "markdown",
   "metadata": {},
   "source": [
    "**Data generation**"
   ]
  },
  {
   "cell_type": "markdown",
   "metadata": {},
   "source": [
    "Create and visualize arrays containing only real numbers, then integers, then strings, then a mix of integers and strings"
   ]
  },
  {
   "cell_type": "code",
   "execution_count": 1,
   "metadata": {},
   "outputs": [
    {
     "name": "stdout",
     "output_type": "stream",
     "text": [
      "Arrays conatining real numbers: \n",
      " [0.17215393 0.40718873 0.12218788 0.04243557 0.82049095]\n",
      "\n",
      " Arrays conatining integers: \n",
      " [11 32 42 19 31]\n",
      "\n",
      " Arrays conatining strings: \n",
      " ['Hello' 'Kiki']\n",
      "\n",
      " Arrays conatining mix of integers and strings: \n",
      " ['Yello' '4']\n"
     ]
    }
   ],
   "source": [
    "import numpy as np\n",
    "\n",
    "a1=np.random.random(5)\n",
    "print(\"Arrays conatining real numbers: \\n\",a1)\n",
    "a2=np.random.randint(0,50,5)\n",
    "print(\"\\n Arrays conatining integers: \\n\",a2)\n",
    "a3=np.array((\"Hello\",\"Kiki\"))\n",
    "print(\"\\n Arrays conatining strings: \\n\",a3)\n",
    "a4=np.array((\"Yello\",4))\n",
    "print(\"\\n Arrays conatining mix of integers and strings: \\n\",a4)"
   ]
  },
  {
   "cell_type": "markdown",
   "metadata": {},
   "source": [
    "Add two arrays made of integers, element by element (the two arrays must be the same size)"
   ]
  },
  {
   "cell_type": "code",
   "execution_count": 2,
   "metadata": {},
   "outputs": [
    {
     "name": "stdout",
     "output_type": "stream",
     "text": [
      "a1: [14  2 18  7 18]\n",
      "a2: [16 11 15  7 10]\n",
      "\n",
      " Adding two arrays element by element: \n",
      " [30 13 33 14 28]\n"
     ]
    }
   ],
   "source": [
    "a1=np.random.randint(0,20,5)\n",
    "a2=np.random.randint(0,20,5)\n",
    "print(\"a1:\",a1)\n",
    "print(\"a2:\",a2)\n",
    "print(\"\\n Adding two arrays element by element: \\n\",a1+a2)"
   ]
  },
  {
   "cell_type": "markdown",
   "metadata": {},
   "source": [
    "Create a 3*3 array including only zeros on the first line, then 1s on the second line, then the number 5 on the third line"
   ]
  },
  {
   "cell_type": "code",
   "execution_count": 3,
   "metadata": {},
   "outputs": [
    {
     "name": "stdout",
     "output_type": "stream",
     "text": [
      "[0. 0. 0.]\n",
      "[1. 1. 1.]\n",
      "[5. 5. 5.]\n",
      "The 3*3 array: \n",
      "[[0. 0. 0.]\n",
      " [1. 1. 1.]\n",
      " [5. 5. 5.]]\n"
     ]
    }
   ],
   "source": [
    "ar1=np.zeros(3)\n",
    "ar2=np.random.random(3)\n",
    "ar2.fill(1)\n",
    "ar3=np.random.random(3)\n",
    "ar3.fill(5)\n",
    "print(ar1)\n",
    "print(ar2)\n",
    "print(ar3)\n",
    "array=np.array((ar1,ar2,ar3)).reshape(3,3)\n",
    "print(\"The 3*3 array: \")\n",
    "print(array)\n"
   ]
  },
  {
   "cell_type": "code",
   "execution_count": 4,
   "metadata": {},
   "outputs": [
    {
     "name": "stdout",
     "output_type": "stream",
     "text": [
      "[[0 0 0]\n",
      " [1 1 1]\n",
      " [5 5 5]]\n"
     ]
    }
   ],
   "source": [
    "array0=np.zeros((3,3)).astype(np.int16)\n",
    "array0[1,:]=1\n",
    "array0[2,:]=5\n",
    "print(array0)"
   ]
  },
  {
   "cell_type": "markdown",
   "metadata": {},
   "source": [
    "Extract the shape attribute from this array"
   ]
  },
  {
   "cell_type": "code",
   "execution_count": 5,
   "metadata": {},
   "outputs": [
    {
     "name": "stdout",
     "output_type": "stream",
     "text": [
      "Array: \n",
      " [[0 0 0]\n",
      " [1 1 1]\n",
      " [5 5 5]]\n",
      "Shape of the array: (3, 3)\n"
     ]
    }
   ],
   "source": [
    "print(\"Array: \\n\",array0)\n",
    "print(\"Shape of the array:\" ,array0.shape)"
   ]
  },
  {
   "cell_type": "markdown",
   "metadata": {},
   "source": [
    "Create an array of 3 by 3 by 3 including only real numbers chosen from a normal distribution"
   ]
  },
  {
   "cell_type": "code",
   "execution_count": 6,
   "metadata": {},
   "outputs": [
    {
     "name": "stdout",
     "output_type": "stream",
     "text": [
      "3 by 3 by 3 array from a normal distribution: \n",
      " [[[ 1.65974204 -0.36389536  0.42848342]\n",
      "  [-0.70593586  1.34532533 -0.68406744]\n",
      "  [-1.52608752 -0.36181284 -1.88241211]]\n",
      "\n",
      " [[ 0.7436271   1.06518811 -0.64369571]\n",
      "  [ 0.03087925  0.28756983  1.83416111]\n",
      "  [-1.06038007  0.07390926  0.65743042]]\n",
      "\n",
      " [[-0.40989329 -0.86467516 -0.35972866]\n",
      "  [-1.44523533 -0.6249858   1.90086428]\n",
      "  [ 0.44365442 -0.44230149 -1.75953445]]]\n"
     ]
    }
   ],
   "source": [
    "array3D=np.random.normal(size=(3,3,3))\n",
    "print(\"3 by 3 by 3 array from a normal distribution: \\n\",array3D)"
   ]
  },
  {
   "cell_type": "markdown",
   "metadata": {},
   "source": [
    "Create a vector comprising 7 equally spaced values, between 2 and 3"
   ]
  },
  {
   "cell_type": "code",
   "execution_count": 7,
   "metadata": {},
   "outputs": [
    {
     "name": "stdout",
     "output_type": "stream",
     "text": [
      "[2.         2.16666667 2.33333333 2.5        2.66666667 2.83333333\n",
      " 3.        ]\n"
     ]
    }
   ],
   "source": [
    "vector=np.linspace(2,3,7)\n",
    "print(vector)"
   ]
  },
  {
   "cell_type": "markdown",
   "metadata": {},
   "source": [
    "Use the choice function to sample 5 values ​​from this last vector, once with replacement, and once without replacement"
   ]
  },
  {
   "cell_type": "code",
   "execution_count": 8,
   "metadata": {},
   "outputs": [
    {
     "name": "stdout",
     "output_type": "stream",
     "text": [
      "Vector:  [2.         2.16666667 2.33333333 2.5        2.66666667 2.83333333\n",
      " 3.        ]\n",
      "\n",
      " Array created from the vector with replacement: \n",
      " [2.33333333 2.5        2.33333333 2.66666667 2.        ]\n",
      "\n",
      " Array created from the vector without replacement: \n",
      " [2.5        2.         2.33333333 3.         2.66666667]\n"
     ]
    }
   ],
   "source": [
    "cho_replace=np.random.choice(vector,5)\n",
    "cho_without_replace=np.random.choice(vector,5,replace=False)\n",
    "print(\"Vector: \",vector )\n",
    "print(\"\\n Array created from the vector with replacement: \\n\",cho_replace)\n",
    "print(\"\\n Array created from the vector without replacement: \\n\",cho_without_replace)"
   ]
  },
  {
   "cell_type": "markdown",
   "metadata": {},
   "source": [
    "Create a vector corresponding to a sequence of numbers, from 13 to 19, counting in steps of one"
   ]
  },
  {
   "cell_type": "code",
   "execution_count": 9,
   "metadata": {},
   "outputs": [
    {
     "name": "stdout",
     "output_type": "stream",
     "text": [
      "Sequential vector from 13 to 19: \n",
      " [13 14 15 16 17 18 19]\n"
     ]
    }
   ],
   "source": [
    "sequence=np.arange(13,20)\n",
    "print(\"Sequential vector from 13 to 19: \\n\" , sequence)"
   ]
  },
  {
   "cell_type": "markdown",
   "metadata": {},
   "source": [
    "Create a 5*5 identity matrix"
   ]
  },
  {
   "cell_type": "code",
   "execution_count": 10,
   "metadata": {},
   "outputs": [
    {
     "name": "stdout",
     "output_type": "stream",
     "text": [
      "5*5 Identity Matrix: \n",
      " [[1 0 0 0 0]\n",
      " [0 1 0 0 0]\n",
      " [0 0 1 0 0]\n",
      " [0 0 0 1 0]\n",
      " [0 0 0 0 1]]\n"
     ]
    }
   ],
   "source": [
    "Identity=np.identity(5).astype(np.int8)\n",
    "print(\"5*5 Identity Matrix: \\n\",Identity)"
   ]
  },
  {
   "cell_type": "markdown",
   "metadata": {},
   "source": [
    "Create a 5*5 matrix of zeros, with 1 on the diagonal. Then specifically extract this diagonal"
   ]
  },
  {
   "cell_type": "code",
   "execution_count": 11,
   "metadata": {},
   "outputs": [
    {
     "name": "stdout",
     "output_type": "stream",
     "text": [
      "5*5 matrix of zeros, with 1 on the diagonal: \n",
      " [[1 0 0 0 0]\n",
      " [0 1 0 0 0]\n",
      " [0 0 1 0 0]\n",
      " [0 0 0 1 0]\n",
      " [0 0 0 0 1]]\n",
      "\n",
      " The diagonal:  [1 1 1 1 1]\n"
     ]
    }
   ],
   "source": [
    "print(\"5*5 matrix of zeros, with 1 on the diagonal: \\n\",Identity)\n",
    "diag=np.diag(Identity)\n",
    "print(\"\\n The diagonal: \",diag)\n"
   ]
  },
  {
   "cell_type": "markdown",
   "metadata": {},
   "source": [
    "Complete this NumPy line to determine if the elements of a vector are finite (not infinite or not\n",
    "a number)"
   ]
  },
  {
   "cell_type": "code",
   "execution_count": 12,
   "metadata": {},
   "outputs": [
    {
     "name": "stdout",
     "output_type": "stream",
     "text": [
      "The array: \n",
      " [ 1.  0. nan inf]\n",
      "\n",
      " To determine if the elements are finite: \n",
      " [ True  True False False]\n"
     ]
    }
   ],
   "source": [
    "array = np.array([1, 0, np.nan, np.inf]) \n",
    "print(\"The array: \\n\",array)\n",
    "finite=np.isfinite(array)\n",
    "print(\"\\n To determine if the elements are finite: \\n\",finite)"
   ]
  },
  {
   "cell_type": "markdown",
   "metadata": {},
   "source": [
    "Complete this NumPy program to test element by element if it corresponds to infinity (positive\n",
    "or negative)"
   ]
  },
  {
   "cell_type": "code",
   "execution_count": 13,
   "metadata": {},
   "outputs": [
    {
     "name": "stdout",
     "output_type": "stream",
     "text": [
      "The array: \n",
      " [ 1.  0. nan inf]\n",
      "\n",
      " To determine if the elements are infinite: \n",
      " [False False False  True]\n"
     ]
    }
   ],
   "source": [
    "print(\"The array: \\n\",array)\n",
    "infinite=np.isinf(array)\n",
    "print(\"\\n To determine if the elements are infinite: \\n\",infinite)\n"
   ]
  },
  {
   "cell_type": "markdown",
   "metadata": {},
   "source": [
    "Complete this NumPy program to perform a comparison by element (equal, then equal to\n",
    "a certain tolerance) of two given tables"
   ]
  },
  {
   "cell_type": "code",
   "execution_count": 14,
   "metadata": {},
   "outputs": [
    {
     "name": "stdout",
     "output_type": "stream",
     "text": [
      "Comparision by element: \n",
      " [ True  True  True  True  True  True False]\n"
     ]
    }
   ],
   "source": [
    "x = np.array([72, 79, -135, 120, -10, 60, 100])\n",
    "y = np.array([72, 79, -135, 120, -10, 60, 100.01])\n",
    "compare=np.equal(x, y)\n",
    "print(\"Comparision by element: \\n\" , compare)"
   ]
  },
  {
   "cell_type": "markdown",
   "metadata": {},
   "source": [
    "**Subsetting & reshaping**"
   ]
  },
  {
   "cell_type": "markdown",
   "metadata": {},
   "source": [
    "Create an array of 7 by 7 including only real numbers chosen from a normal distribution, then select only the first row, the first column, all columns up to the third, and the element of the second column and third row"
   ]
  },
  {
   "cell_type": "code",
   "execution_count": 15,
   "metadata": {},
   "outputs": [
    {
     "name": "stdout",
     "output_type": "stream",
     "text": [
      "The orginal array: \n",
      " [[-1.477397   -0.2551583   0.7692813   0.75136046  0.31626482  1.39176752\n",
      "   0.5523849 ]\n",
      " [ 2.46144797 -1.44325501 -0.14856716  1.05186964 -0.58456108  0.32485039\n",
      "  -2.24354661]\n",
      " [-1.43019834  0.16574144  1.20532957 -1.12171641 -1.28740435 -0.10270784\n",
      "  -0.43340697]\n",
      " [ 0.47419914 -0.23226717  0.46324752 -0.23479393 -0.44951535 -1.97100099\n",
      "  -0.99062798]\n",
      " [-1.19141721 -1.66304491 -0.1115917  -0.57067582 -1.2738131  -0.87475821\n",
      "  -1.50722027]\n",
      " [ 0.76837925  0.48184746  0.99422725 -1.29889667  0.02836782 -1.83233564\n",
      "   0.52642938]\n",
      " [-1.08469411  1.36647794 -1.74476015 -0.47741777 -0.2736723   0.40539216\n",
      "  -0.63898563]]\n",
      "\n",
      " First row: \n",
      " [-1.477397    2.46144797 -1.43019834  0.47419914 -1.19141721  0.76837925\n",
      " -1.08469411]\n",
      "\n",
      " First column: \n",
      " [-1.477397   -0.2551583   0.7692813   0.75136046  0.31626482  1.39176752\n",
      "  0.5523849 ]\n",
      "\n",
      " All columns upto the third: \n",
      " [[-1.477397   -0.2551583   0.7692813   0.75136046  0.31626482  1.39176752\n",
      "   0.5523849 ]\n",
      " [ 2.46144797 -1.44325501 -0.14856716  1.05186964 -0.58456108  0.32485039\n",
      "  -2.24354661]\n",
      " [-1.43019834  0.16574144  1.20532957 -1.12171641 -1.28740435 -0.10270784\n",
      "  -0.43340697]]\n",
      "\n",
      " Element of second column and third row: \n",
      " 0.16574143947520617\n"
     ]
    }
   ],
   "source": [
    "nor7=np.random.normal(size=(7,7))\n",
    "print(\"The orginal array: \\n\",nor7)\n",
    "\n",
    "row1=nor7[:,0]\n",
    "col1=nor7[0,:]\n",
    "third_col=nor7[:3,:]\n",
    "element=nor7[2,1]\n",
    "\n",
    "print(\"\\n First row: \\n\", row1)\n",
    "print(\"\\n First column: \\n\",col1)\n",
    "print(\"\\n All columns upto the third: \\n\",third_col)\n",
    "print(\"\\n Element of second column and third row: \\n\",element)\n",
    "\n",
    "\n"
   ]
  },
  {
   "cell_type": "markdown",
   "metadata": {},
   "source": [
    "Create an array that is the repetition of one 1, two 2s, and three 3s, then from this vector, create a new array including the \"unique\" values ​​(i.e., 1, 2, and 3)"
   ]
  },
  {
   "cell_type": "code",
   "execution_count": 16,
   "metadata": {},
   "outputs": [
    {
     "name": "stdout",
     "output_type": "stream",
     "text": [
      "Array of repetiton of one 1, two 2s, and three 3s: \n",
      " [1 2 2 3 3 3]\n",
      "The unique values from this array: \n",
      " [1 2 3]\n"
     ]
    }
   ],
   "source": [
    "rep=np.repeat([1,2,3],[1,2,3])\n",
    "print(\"Array of repetiton of one 1, two 2s, and three 3s: \\n\",rep)\n",
    "\n",
    "uniq=np.unique(rep)\n",
    "print(\"The unique values from this array: \\n\",uniq)"
   ]
  },
  {
   "cell_type": "markdown",
   "metadata": {},
   "source": [
    "Créez un array de 5*5 comprenant des chiffres entiers choisis aléatoirement, puis réalisez une transposition de cette matrice"
   ]
  },
  {
   "cell_type": "code",
   "execution_count": 17,
   "metadata": {},
   "outputs": [
    {
     "name": "stdout",
     "output_type": "stream",
     "text": [
      "Original array: \n",
      " [[45 27 42 42 17]\n",
      " [37 29 38 16 14]\n",
      " [23 35 46 15  7]\n",
      " [31 22 13 41 22]\n",
      " [43 13  4 47 49]]\n",
      "\n",
      " Transposed array: \n",
      " [[45 37 23 31 43]\n",
      " [27 29 35 22 13]\n",
      " [42 38 46 13  4]\n",
      " [42 16 15 41 47]\n",
      " [17 14  7 22 49]]\n"
     ]
    }
   ],
   "source": [
    "array55=np.random.randint(1,50,(5,5))\n",
    "\n",
    "print(\"Original array: \\n\" , array55)\n",
    "\n",
    "transpose=np.transpose(array55)\n",
    "print(\"\\n Transposed array: \\n\",transpose)"
   ]
  },
  {
   "cell_type": "markdown",
   "metadata": {},
   "source": [
    "Create a vector of 25 successive integers, then use reshape to make it a 5*5 matrix. Then play with the reshape function to illustrate how it works"
   ]
  },
  {
   "cell_type": "code",
   "execution_count": 18,
   "metadata": {},
   "outputs": [
    {
     "name": "stdout",
     "output_type": "stream",
     "text": [
      "Vector with 25 successive integer: \n",
      " [ 0  1  2  3  4  5  6  7  8  9 10 11 12 13 14 15 16 17 18 19 20 21 22 23\n",
      " 24]\n",
      "\n",
      " The 5*5 matrix: \n",
      " [[ 0  1  2  3  4]\n",
      " [ 5  6  7  8  9]\n",
      " [10 11 12 13 14]\n",
      " [15 16 17 18 19]\n",
      " [20 21 22 23 24]]\n"
     ]
    }
   ],
   "source": [
    "arr25=np.arange(25)\n",
    "print(\"Vector with 25 successive integer: \\n\",arr25)\n",
    "\n",
    "print(\"\\n The 5*5 matrix: \\n\",arr25.reshape(5,5))  "
   ]
  },
  {
   "cell_type": "markdown",
   "metadata": {},
   "source": [
    "Make a broadcast of two arrays of your design"
   ]
  },
  {
   "cell_type": "code",
   "execution_count": 19,
   "metadata": {},
   "outputs": [
    {
     "name": "stdout",
     "output_type": "stream",
     "text": [
      "Array 1:  [0 1 2 3 4]\n",
      "\n",
      " Array 2:  [5 6 7 8 9]\n",
      "\n",
      " Broadcast of Array 1 and Array2: \n",
      " [ 5  7  9 11 13]\n",
      "\n",
      " Broadcast of Array 1 and integer 3: \n",
      " [3 4 5 6 7]\n"
     ]
    }
   ],
   "source": [
    "a=np.arange(5)\n",
    "print(\"Array 1: \",a)\n",
    "\n",
    "b=np.arange(5,10)\n",
    "print(\"\\n Array 2: \",b)\n",
    "\n",
    "print(\"\\n Broadcast of Array 1 and Array2: \\n\",a+b)\n",
    "print(\"\\n Broadcast of Array 1 and integer 3: \\n\",a+3)"
   ]
  },
  {
   "cell_type": "markdown",
   "metadata": {},
   "source": [
    "Illustrate “type casting” by changing the data type contained in an array of your choice"
   ]
  },
  {
   "cell_type": "code",
   "execution_count": 20,
   "metadata": {},
   "outputs": [
    {
     "name": "stdout",
     "output_type": "stream",
     "text": [
      "The Original array:  [-2.44404553  4.44578014  5.03905332  4.49446601  6.34286037]\n",
      "\n",
      " Type of the array:  float64\n",
      "\n",
      " Changing the float array to integer:  [-2  4  5  4  6]\n"
     ]
    }
   ],
   "source": [
    "cast=np.random.normal(0,5,5)\n",
    "print(\"The Original array: \",cast)\n",
    "\n",
    "print(\"\\n Type of the array: \",cast.dtype)\n",
    "\n",
    "print(\"\\n Changing the float array to integer: \",cast.astype(np.int64))"
   ]
  },
  {
   "cell_type": "markdown",
   "metadata": {},
   "source": [
    "Create a 4*4 array including integers, which you will cut in half using vsplit"
   ]
  },
  {
   "cell_type": "code",
   "execution_count": 21,
   "metadata": {},
   "outputs": [
    {
     "name": "stdout",
     "output_type": "stream",
     "text": [
      "The Original array: \n",
      " [[ 8  4 31 49]\n",
      " [32 23 30 15]\n",
      " [14 27 34 28]\n",
      " [10 23 18 14]]\n",
      "\n",
      " The splitted array:\n",
      " [array([[ 8,  4, 31, 49],\n",
      "       [32, 23, 30, 15]]), array([[14, 27, 34, 28],\n",
      "       [10, 23, 18, 14]])]\n"
     ]
    }
   ],
   "source": [
    "array44=np.random.randint(0,50,(4,4))\n",
    "print(\"The Original array: \\n\",array44 )\n",
    "\n",
    "vsp=np.vsplit(array44,2)\n",
    "print(\"\\n The splitted array:\\n\", vsp)\n"
   ]
  },
  {
   "cell_type": "markdown",
   "metadata": {},
   "source": [
    "Create a 4*4 array of integers, which you \"unfold\" into a 1D vector using the reshape command. You will then use the shuffle and permutation commands to mix these numbers"
   ]
  },
  {
   "cell_type": "code",
   "execution_count": 74,
   "metadata": {},
   "outputs": [
    {
     "name": "stdout",
     "output_type": "stream",
     "text": [
      "The original array: \n",
      " [[84 76 55 58]\n",
      " [24 50 95 35]\n",
      " [57 35 27 33]\n",
      " [55 42  9 22]]\n",
      "\n",
      " The flattened array: \n",
      " [84 76 55 58 24 50 95 35 57 35 27 33 55 42  9 22]\n",
      "\n",
      " The shuffled array: \n",
      " [35 57 35  9 58 55 50 55 84 33 22 42 76 24 27 95]\n",
      "\n",
      " The permutated array: \n",
      " [24 22 57 55 50  9 35 35 76 58 27 33 55 42 84 95]\n"
     ]
    }
   ],
   "source": [
    "arrr=np.random.randint(1,100,(4,4))\n",
    "print(\"The original array: \\n\",arrr)\n",
    "flatten=arrr.flatten()\n",
    "print(\"\\n The flattened array: \\n\",flatten)\n",
    "np.random.shuffle(flatten)\n",
    "print(\"\\n The shuffled array: \\n\",flatten)\n",
    "per=np.random.permutation(flatten)\n",
    "print(\"\\n The permutated array: \\n\",per)\n"
   ]
  },
  {
   "cell_type": "markdown",
   "metadata": {},
   "source": [
    "Merge a 3*3 matrix made of integers, with a vector of three elements, once horizontally, and once vertically"
   ]
  },
  {
   "cell_type": "code",
   "execution_count": 23,
   "metadata": {},
   "outputs": [
    {
     "name": "stdout",
     "output_type": "stream",
     "text": [
      "The Array: \n",
      " [[12 29 56]\n",
      " [26 90 79]\n",
      " [ 6 77 58]]\n",
      "\n",
      " The Vector: \n",
      " [61 33 21]\n",
      "\n",
      " Array and Vector merged horizontally: \n",
      " [[12 29 56 61]\n",
      " [26 90 79 33]\n",
      " [ 6 77 58 21]]\n",
      "\n",
      " Array and Vector merged vertically: \n",
      " [[12 29 56]\n",
      " [26 90 79]\n",
      " [ 6 77 58]\n",
      " [61 33 21]]\n"
     ]
    }
   ],
   "source": [
    "x=np.random.randint(0,100,(3,3))\n",
    "print(\"The Array: \\n\" , x)\n",
    "y=np.random.randint(0,100,3)\n",
    "print(\"\\n The Vector: \\n\", y)\n",
    "\n",
    "vmerge=np.vstack((x,y))\n",
    "hmerge=np.hstack((x,y.reshape(3,1)))\n",
    "\n",
    "\n",
    "print(\"\\n Array and Vector merged horizontally: \\n\",hmerge)\n",
    "print(\"\\n Array and Vector merged vertically: \\n\",vmerge)"
   ]
  },
  {
   "cell_type": "markdown",
   "metadata": {},
   "source": [
    "Demonstrate your mastery and understanding of the resize command, then the argsort command. Make comments"
   ]
  },
  {
   "cell_type": "code",
   "execution_count": 24,
   "metadata": {},
   "outputs": [
    {
     "name": "stdout",
     "output_type": "stream",
     "text": [
      "The orginal array: \n",
      " [0 1 2 3 4]\n",
      "\n",
      " The array resized to 4*4 matrix \n",
      " [[0 1 2 3]\n",
      " [4 0 1 2]\n",
      " [3 4 0 1]\n",
      " [2 3 4 0]]\n",
      "\n",
      " The sorted array: \n",
      " [[0 1 2 3]\n",
      " [1 2 3 0]\n",
      " [2 3 0 1]\n",
      " [3 0 1 2]]\n"
     ]
    }
   ],
   "source": [
    "ar5=np.arange(5)\n",
    "print(\"The orginal array: \\n\",ar5)\n",
    "\n",
    "resize=np.resize(ar5,(4,4))                                     #resize command is used to resize an array to a desired shape. If the required shape is more than the actual size then it repeats the existing element to form the new array.\n",
    "print(\"\\n The array resized to 4*4 matrix \\n\",resize)              \n",
    "\n",
    "sort=np.argsort(resize)                                         #it sorts the array and returns the indices for each row\n",
    "print(\"\\n The sorted array: \\n\" , sort)\n"
   ]
  },
  {
   "cell_type": "markdown",
   "metadata": {},
   "source": [
    "Write a NumPy program to get the n largest values ​​of an array, use np.partition and play with both positive and negative values ​​of n, the second argument of the function, before explaining in your words what is happening. pass"
   ]
  },
  {
   "cell_type": "code",
   "execution_count": 25,
   "metadata": {},
   "outputs": [
    {
     "name": "stdout",
     "output_type": "stream",
     "text": [
      "The original array \n",
      " [ 9  8  7  6  5  4  3  2 -1]\n",
      "\n",
      " [ 4 -1  2  3  5  6  7  8  9]\n"
     ]
    }
   ],
   "source": [
    "array=np.array((9,8,7,6,5,4,3,2,-1))\n",
    "print(\"The original array \\n\",array)\n",
    "\n",
    "print(\"\\n\",np.partition(array,(5)))"
   ]
  },
  {
   "cell_type": "markdown",
   "metadata": {},
   "source": [
    "Sort a 2*2 array, on the one hand before having flattened it, and on the other hand after having flattened it"
   ]
  },
  {
   "cell_type": "code",
   "execution_count": 64,
   "metadata": {},
   "outputs": [
    {
     "name": "stdout",
     "output_type": "stream",
     "text": [
      "The 2*2 array: \n",
      " [[80 49]\n",
      " [63 68]]\n",
      "The sorted array: \n",
      " [[49 80]\n",
      " [63 68]]\n",
      "The flattened array: \n",
      " [80 49 63 68]\n",
      "The sorted flattened array: \n",
      " [49 63 68 80]\n"
     ]
    }
   ],
   "source": [
    "array22=np.random.randint(0,100,(2,2))\n",
    "print(\"The 2*2 array: \\n\",array22)\n",
    "print(\"The sorted array: \\n\",np.sort(array22))\n",
    "flat=array22.flatten()\n",
    "print(\"The flattened array: \\n\",flat)\n",
    "print(\"The sorted flattened array: \\n\",np.sort(flat))"
   ]
  },
  {
   "cell_type": "markdown",
   "metadata": {},
   "source": [
    "Produce a 1D array of the size of your choice, containing a random number of 2 between 5 and 10. Count the number of times the value 2 is repeated in the array."
   ]
  },
  {
   "cell_type": "code",
   "execution_count": 27,
   "metadata": {},
   "outputs": [
    {
     "name": "stdout",
     "output_type": "stream",
     "text": [
      "[3 2 3 2 4 4 2 4 4 4]\n",
      "(array([2, 3, 4]), array([3, 2, 5], dtype=int64))\n",
      "3\n",
      "[False  True False  True False False  True False False False]\n"
     ]
    }
   ],
   "source": [
    "D1=np.random.randint(2,5,10)\n",
    "print(D1)\n",
    "print(np.unique(D1,return_counts=True))\n",
    "print(np.count_nonzero(D1 == 2))\n",
    "print(np.isin(D1,2))"
   ]
  },
  {
   "cell_type": "markdown",
   "metadata": {},
   "source": [
    "Create an integer vector of size 30 with numbers between 1 and 12. Then use np.isin to check if the numbers 4, 6 and 7 appeared in the sequence"
   ]
  },
  {
   "cell_type": "code",
   "execution_count": 28,
   "metadata": {},
   "outputs": [
    {
     "name": "stdout",
     "output_type": "stream",
     "text": [
      "[ 5  6  6  6  1 11 12  2  7  2  2  8  8 10  6  7  6 12  7  9  4  6  8  1\n",
      "  1 12  5 11  4  1]\n",
      "[False  True  True  True False False False False  True False False False\n",
      " False False  True  True  True False  True False  True  True False False\n",
      " False False False False  True False]\n"
     ]
    }
   ],
   "source": [
    "D30=np.random.randint(1,13,30)\n",
    "print(D30)\n",
    "\n",
    "print(np.isin(D30,(4,6,7)))"
   ]
  },
  {
   "cell_type": "markdown",
   "metadata": {},
   "source": [
    "**np.where**"
   ]
  },
  {
   "cell_type": "markdown",
   "metadata": {},
   "source": [
    "Create an integer vector of size 30 with numbers between 1 and 12, then use the np.where function to identify indexes of numbers greater than 6"
   ]
  },
  {
   "cell_type": "code",
   "execution_count": 29,
   "metadata": {},
   "outputs": [
    {
     "name": "stdout",
     "output_type": "stream",
     "text": [
      "[ 5  6  6  6  1 11 12  2  7  2  2  8  8 10  6  7  6 12  7  9  4  6  8  1\n",
      "  1 12  5 11  4  1]\n",
      "(array([ 5,  6,  8, 11, 12, 13, 15, 17, 18, 19, 22, 25, 27], dtype=int64),)\n"
     ]
    }
   ],
   "source": [
    "print(D30)\n",
    "print(np.where(D30>6))\n"
   ]
  },
  {
   "cell_type": "markdown",
   "metadata": {},
   "source": [
    "**Données manquantes**"
   ]
  },
  {
   "cell_type": "markdown",
   "metadata": {},
   "source": [
    "Create an array of 3 * 3 and introduce a missing value at index [0,0], via np.nan"
   ]
  },
  {
   "cell_type": "code",
   "execution_count": 30,
   "metadata": {},
   "outputs": [
    {
     "name": "stdout",
     "output_type": "stream",
     "text": [
      "[[nan  1.  2.]\n",
      " [ 3.  4.  5.]\n",
      " [ 6.  7.  8.]]\n"
     ]
    }
   ],
   "source": [
    "D3=np.arange(9).reshape(3,3).astype(float)\n",
    "D3[(0,0)]=np.nan\n",
    "print(D3)"
   ]
  },
  {
   "cell_type": "markdown",
   "metadata": {},
   "source": [
    "Transform this missing value into zero using np.fillna"
   ]
  },
  {
   "cell_type": "code",
   "execution_count": 31,
   "metadata": {},
   "outputs": [
    {
     "name": "stdout",
     "output_type": "stream",
     "text": [
      "[[0. 1. 2.]\n",
      " [3. 4. 5.]\n",
      " [6. 7. 8.]]\n"
     ]
    }
   ],
   "source": [
    "#np.fillna(D3,0) #numpy has no attribute fillna\n",
    "D3[np.isnan(D3)]=0\n",
    "print(D3)"
   ]
  },
  {
   "cell_type": "markdown",
   "metadata": {},
   "source": [
    "You have two sets of integers: A = {1, 2, 3, 4, 5} and B = {3, 4, 5, 6, 7}. Write a program in Python using the appropriate function to find the union of these two sets and return the result."
   ]
  },
  {
   "cell_type": "code",
   "execution_count": 32,
   "metadata": {},
   "outputs": [
    {
     "name": "stdout",
     "output_type": "stream",
     "text": [
      "[{1, 2, 3, 4, 5} {3, 4, 5, 6, 7}]\n",
      "[]\n"
     ]
    }
   ],
   "source": [
    "#intersection & union for sets\n",
    "A={1,2,3,4,5}\n",
    "B={3,4,5,6,7}\n",
    "\n",
    "print(np.union1d(A,B))\n",
    "print(np.intersect1d(A,B))"
   ]
  },
  {
   "cell_type": "markdown",
   "metadata": {},
   "source": [
    "You have two sets of integers: A = {1, 2, 3, 4, 5} and B = {3, 4, 5, 6, 7}. Write a program in Python using the appropriate function to find the intersection of these two sets and return the result"
   ]
  },
  {
   "cell_type": "code",
   "execution_count": 33,
   "metadata": {},
   "outputs": [
    {
     "name": "stdout",
     "output_type": "stream",
     "text": [
      "[1 2 3 4 5 6 7]\n",
      "[3 4 5]\n"
     ]
    }
   ],
   "source": [
    "#intersection & union for arrays\n",
    "\n",
    "A=np.array((1,2,3,4,5))\n",
    "B=np.array((3,4,5,6,7))\n",
    "\n",
    "print(np.union1d(A,B))\n",
    "print(np.intersect1d(A,B))"
   ]
  },
  {
   "cell_type": "markdown",
   "metadata": {},
   "source": [
    "You have a set of integer values ​​= {2, 4, 6}, and a NumPy array = [1, 2, 3, 4, 5]. Write a program in Python using np.in1d ​​to check if each element in array belongs to the set values. The program must return an array of booleans indicating the membership of each element"
   ]
  },
  {
   "cell_type": "code",
   "execution_count": 34,
   "metadata": {},
   "outputs": [
    {
     "name": "stdout",
     "output_type": "stream",
     "text": [
      "[False  True False  True False]\n"
     ]
    }
   ],
   "source": [
    "int=[2,4,6]\n",
    "narr=np.array((1,2,3,4,5))\n",
    "print(np.in1d(narr,int))"
   ]
  },
  {
   "cell_type": "markdown",
   "metadata": {},
   "source": [
    "You have two sets of integers: A = {1, 2, 3, 4, 5} and B = {3, 4, 5, 6, 7}. Write a program in Python using np.setdiff1d to find elements that are in A but not in B, then return the result."
   ]
  },
  {
   "cell_type": "code",
   "execution_count": 35,
   "metadata": {},
   "outputs": [
    {
     "name": "stdout",
     "output_type": "stream",
     "text": [
      "[1 2]\n"
     ]
    }
   ],
   "source": [
    "print(np.setdiff1d(A,B))"
   ]
  },
  {
   "cell_type": "markdown",
   "metadata": {},
   "source": [
    "Write a function that takes a NumPy array as input and returns a new array containing the differences between consecutive elements of the input array. For example, if the input is [1, 3, 7, 11], the result should be [2, 4, 4]."
   ]
  },
  {
   "cell_type": "code",
   "execution_count": 36,
   "metadata": {},
   "outputs": [
    {
     "name": "stdout",
     "output_type": "stream",
     "text": [
      "[2 4 4]\n"
     ]
    }
   ],
   "source": [
    "input=np.array((1,3,7,11))\n",
    "print(np.ediff1d(input))"
   ]
  },
  {
   "cell_type": "markdown",
   "metadata": {},
   "source": [
    "**Calculus with NumPy**"
   ]
  },
  {
   "cell_type": "markdown",
   "metadata": {},
   "source": [
    "Create a matrix of 4*4 real numbers, both negative and positive, then calculate for each row the sum, average, and cumulative sum"
   ]
  },
  {
   "cell_type": "code",
   "execution_count": 37,
   "metadata": {},
   "outputs": [
    {
     "name": "stdout",
     "output_type": "stream",
     "text": [
      "The original array : \n",
      " [[ -9.0006294   -6.10813333 -12.77390816   3.45578301]\n",
      " [ -9.74921331  -6.03863982   3.94265805   3.08107556]\n",
      " [ -4.30541816  -1.38738399   1.13638321 -17.09429456]\n",
      " [ -4.68236912  -5.09414485  -2.98160994  -6.72561421]]\n",
      "\n",
      " The sum of the row : \n",
      "  [-24.42688788  -8.76411953 -21.6507135  -19.48373813]\n",
      "\n",
      " The average of the row: \n",
      " [-6.10672197 -2.19102988 -5.41267837 -4.87093453]\n",
      "\n",
      " The cumulative sum of the row : \n",
      "  [[ -9.0006294  -15.10876273 -27.88267089 -24.42688788]\n",
      " [ -9.74921331 -15.78785314 -11.84519508  -8.76411953]\n",
      " [ -4.30541816  -5.69280215  -4.55641894 -21.6507135 ]\n",
      " [ -4.68236912  -9.77651397 -12.75812392 -19.48373813]]\n"
     ]
    }
   ],
   "source": [
    "array44=np.random.normal(-5,5,(4,4))\n",
    "print(\"The original array : \\n\" , array44)\n",
    "\n",
    "sum_row=np.sum(array44,1)\n",
    "print(\"\\n The sum of the row : \\n \",sum_row)\n",
    "\n",
    "avg_row=np.mean(array44,1)\n",
    "print(\"\\n The average of the row: \\n\" , avg_row)\n",
    "\n",
    "cumsum=np.cumsum(array44,1)\n",
    "print(\"\\n The cumulative sum of the row : \\n \",cumsum)"
   ]
  },
  {
   "cell_type": "markdown",
   "metadata": {},
   "source": [
    "Repeat the previous operation by averaging the absolute values ​​of the numbers, then the minimum value and the maximum value; you will finally create a last column using the maximum value with the np.round function"
   ]
  },
  {
   "cell_type": "code",
   "execution_count": 38,
   "metadata": {},
   "outputs": [
    {
     "name": "stdout",
     "output_type": "stream",
     "text": [
      "The absolute value of the previous array: \n",
      " [[ 9.0006294   6.10813333 12.77390816  3.45578301]\n",
      " [ 9.74921331  6.03863982  3.94265805  3.08107556]\n",
      " [ 4.30541816  1.38738399  1.13638321 17.09429456]\n",
      " [ 4.68236912  5.09414485  2.98160994  6.72561421]]\n",
      "\n",
      " The sum of the row : \n",
      "  [31.3384539  22.81158674 23.92347991 19.48373813]\n",
      "\n",
      " The average of the row: \n",
      " [7.83461347 5.70289669 5.98086998 4.87093453]\n",
      "\n",
      " The cumulative sum of the row : \n",
      "  [[ 9.0006294  15.10876273 27.88267089 31.3384539 ]\n",
      " [ 9.74921331 15.78785314 19.73051119 22.81158674]\n",
      " [ 4.30541816  5.69280215  6.82918535 23.92347991]\n",
      " [ 4.68236912  9.77651397 12.75812392 19.48373813]]\n",
      "\n",
      " The minimum values of each row: \n",
      " [3.45578301 3.08107556 1.13638321 2.98160994]\n",
      "\n",
      " The maximum values of each row: \n",
      " [12.77390816  9.74921331 17.09429456  6.72561421]\n",
      "\n",
      " The maximum values of rounded values: \n",
      " [13. 10. 17.  7.]\n"
     ]
    }
   ],
   "source": [
    "abs = np.abs(array44)\n",
    "print(\"The absolute value of the previous array: \\n\",abs)\n",
    "avg_abs=np.mean(abs,1)\n",
    "\n",
    "abs_sum_row=np.sum(abs,1)\n",
    "print(\"\\n The sum of the row : \\n \",abs_sum_row)\n",
    "\n",
    "abs_avg_row=np.mean(abs,1)\n",
    "print(\"\\n The average of the row: \\n\" , abs_avg_row)\n",
    "\n",
    "abs_cumsum=np.cumsum(abs,1)\n",
    "print(\"\\n The cumulative sum of the row : \\n \",abs_cumsum)\n",
    "\n",
    "min = np.min(abs, axis=1)\n",
    "print(\"\\n The minimum values of each row: \\n\",min)\n",
    "\n",
    "max = np.max(abs, axis=1)\n",
    "print(\"\\n The maximum values of each row: \\n\",max)\n",
    "\n",
    "round_max = np.round(max)\n",
    "print(\"\\n The maximum values of rounded values: \\n\",round_max)"
   ]
  },
  {
   "cell_type": "markdown",
   "metadata": {},
   "source": [
    "Place 10 points randomly on a plane, then calculate the distance vectors between these different points. How many distance calculations do you do? Visualize points with matplotlib"
   ]
  },
  {
   "cell_type": "code",
   "execution_count": 39,
   "metadata": {},
   "outputs": [
    {
     "name": "stdout",
     "output_type": "stream",
     "text": [
      "values of the points: \n",
      " [[-17  10]\n",
      " [  3  -9]\n",
      " [-17 -16]\n",
      " [-17 -18]\n",
      " [-10 -17]\n",
      " [ -9   2]\n",
      " [-18  -9]\n",
      " [-13  11]\n",
      " [  2   5]\n",
      " [ 16 -19]]\n",
      "distance between the points: \n",
      " [19.72308292  9.48683298 23.34523506 24.75883681 19.72308292  9.21954446\n",
      " 20.1246118  17.02938637  5.38516481 24.8394847 ]\n"
     ]
    },
    {
     "data": {
      "image/png": "[encoded data removed]",
      "text/plain": [
       "<Figure size 640x480 with 1 Axes>"
      ]
     },
     "metadata": {},
     "output_type": "display_data"
    }
   ],
   "source": [
    "import matplotlib.pyplot as plt\n",
    "\n",
    "random_points = np.random.randint(-20,20,20).reshape((10,2))\n",
    "print(\"values of the points: \\n\", random_points)\n",
    "\n",
    "distance = np.linalg.norm(random_points,axis=1)\n",
    "print(\"distance between the points: \\n\",distance)\n",
    "\n",
    "plt.scatter(random_points[:,0], random_points[:,1])\n",
    "plt.show()"
   ]
  },
  {
   "cell_type": "markdown",
   "metadata": {},
   "source": [
    "Now visualize these distances on the plan, still with matplotlib"
   ]
  },
  {
   "cell_type": "code",
   "execution_count": 40,
   "metadata": {},
   "outputs": [
    {
     "data": {
      "image/png": "[encoded data removed]",
      "text/plain": [
       "<Figure size 640x480 with 1 Axes>"
      ]
     },
     "metadata": {},
     "output_type": "display_data"
    }
   ],
   "source": [
    "plt.plot(random_points[:,0], random_points[:,1])\n",
    "plt.show()"
   ]
  },
  {
   "cell_type": "markdown",
   "metadata": {},
   "source": [
    "Create a list of randomly generated integers, and use np.mod (for modulo) to identify indexes of even numbers"
   ]
  },
  {
   "cell_type": "code",
   "execution_count": 41,
   "metadata": {},
   "outputs": [
    {
     "name": "stdout",
     "output_type": "stream",
     "text": [
      "The list: \n",
      " [17  5 23 40  5  3 15 38 35 13]\n",
      "The index: \n",
      " (array([3, 7], dtype=int64),)\n"
     ]
    }
   ],
   "source": [
    "list=np.random.randint(0,50,10)\n",
    "print(\"The list: \\n\",list)\n",
    "\n",
    "index=np.where((np.mod(list,2))==0)\n",
    "\n",
    "print(\"The index: \\n\",index)"
   ]
  },
  {
   "cell_type": "markdown",
   "metadata": {},
   "source": [
    "**Fonctions universelles**"
   ]
  },
  {
   "cell_type": "markdown",
   "metadata": {},
   "source": [
    "Take the vector {3,4,6,9} and use the add and multiply functions"
   ]
  },
  {
   "cell_type": "code",
   "execution_count": 42,
   "metadata": {},
   "outputs": [
    {
     "name": "stdout",
     "output_type": "stream",
     "text": [
      "The vector: \n",
      " [3 4 6 9]\n",
      "\n",
      " Adding with 66: \n",
      " [69 70 72 75]\n",
      "\n",
      " Multiplying with 23: \n",
      " [ 69  92 138 207]\n"
     ]
    }
   ],
   "source": [
    "vector1=np.array((3,4,6,9))\n",
    "print(\"The vector: \\n\",vector1)\n",
    "print(\"\\n Adding with 66: \\n\" , vector1+66)\n",
    "print(\"\\n Multiplying with 23: \\n\" , vector1*23)"
   ]
  },
  {
   "cell_type": "markdown",
   "metadata": {},
   "source": [
    "Use multiply.outer on two vectors, and explain the nature of the corresponding operations"
   ]
  },
  {
   "cell_type": "code",
   "execution_count": 43,
   "metadata": {},
   "outputs": [
    {
     "name": "stdout",
     "output_type": "stream",
     "text": [
      "Vector 1: \n",
      " [3 4 6 9]\n",
      "Vector 2: \n",
      " [1 2 3 4]\n",
      "Result: \n",
      " [[ 3  6  9 12]\n",
      " [ 4  8 12 16]\n",
      " [ 6 12 18 24]\n",
      " [ 9 18 27 36]]\n"
     ]
    }
   ],
   "source": [
    "vector2=np.array((1,2,3,4))\n",
    "result=np.multiply.outer(vector1,vector2)\n",
    "\n",
    "print(\"Vector 1: \\n\", vector1)\n",
    "print(\"Vector 2: \\n\", vector2)\n",
    "print(\"Result: \\n\",result)\n",
    "\n",
    "#it resizes the 1D vector1 into 4*4 and the first column of this matrix is multiplied with the first element in vector2 and second column of the obtained 4*4 matrix with second elemnts in vector2 and so on."
   ]
  },
  {
   "cell_type": "markdown",
   "metadata": {},
   "source": [
    "Apply the negative function to the array [2,3,5]"
   ]
  },
  {
   "cell_type": "code",
   "execution_count": 44,
   "metadata": {},
   "outputs": [
    {
     "name": "stdout",
     "output_type": "stream",
     "text": [
      "Orginal array: \n",
      " [2 3 5]\n",
      "Negative of the array: \n",
      " [-2 -3 -5]\n"
     ]
    }
   ],
   "source": [
    "arr_neg=np.array((2,3,5))\n",
    "print(\"Orginal array: \\n\", arr_neg)\n",
    "neg=np.negative(arr_neg)\n",
    "print(\"Negative of the array: \\n\",neg)"
   ]
  },
  {
   "cell_type": "markdown",
   "metadata": {},
   "source": [
    "**Numpy and strings**"
   ]
  },
  {
   "cell_type": "markdown",
   "metadata": {},
   "source": [
    "Merge two arrays each comprising two strings, using the np.char.add function"
   ]
  },
  {
   "cell_type": "code",
   "execution_count": 45,
   "metadata": {},
   "outputs": [
    {
     "name": "stdout",
     "output_type": "stream",
     "text": [
      "The arrays are : \n",
      " ['Hello ', 'Wel'] \n",
      " ['Kiki', 'come']\n",
      "\n",
      " Result: \n",
      " ['Hello Kiki' 'Welcome']\n"
     ]
    }
   ],
   "source": [
    "str1 = ['Hello ','Wel'] \n",
    "str2 = ['Kiki','come'] \n",
    "print(\"The arrays are : \\n\",str1,\"\\n\",str2) \n",
    "  \n",
    "result = np.char.add(str1, str2) \n",
    "print(\"\\n Result: \\n\",result) "
   ]
  },
  {
   "cell_type": "markdown",
   "metadata": {},
   "source": [
    "Use the np.char.join function to insert the symbol \";\" into a 5-character string. between each letter"
   ]
  },
  {
   "cell_type": "code",
   "execution_count": 46,
   "metadata": {},
   "outputs": [
    {
     "name": "stdout",
     "output_type": "stream",
     "text": [
      "w;o;w;o;w\n"
     ]
    }
   ],
   "source": [
    "print(np.char.join(\";\",\"wowow\"))"
   ]
  },
  {
   "cell_type": "markdown",
   "metadata": {},
   "source": [
    "Use the np.char.upper function on the character string of your choice"
   ]
  },
  {
   "cell_type": "code",
   "execution_count": 47,
   "metadata": {},
   "outputs": [
    {
     "name": "stdout",
     "output_type": "stream",
     "text": [
      "HELO\n"
     ]
    }
   ],
   "source": [
    "print(np.char.upper(\"helo\"))"
   ]
  },
  {
   "cell_type": "markdown",
   "metadata": {},
   "source": [
    "Use np.char.replace to demonstrate how to replace one string (in a sentence) with another"
   ]
  },
  {
   "cell_type": "code",
   "execution_count": 48,
   "metadata": {},
   "outputs": [
    {
     "name": "stdout",
     "output_type": "stream",
     "text": [
      "String: \n",
      " Help Help --- SOS\n",
      "Result: \n",
      " Help Help --- Dead\n"
     ]
    }
   ],
   "source": [
    "string=np.array(\"Help Help --- SOS\")\n",
    "print(\"String: \\n\",string)\n",
    "replace=np.char.replace(string,\"SOS\",\"Dead\")\n",
    "print(\"Result: \\n\",replace)"
   ]
  },
  {
   "cell_type": "markdown",
   "metadata": {},
   "source": [
    "Use np.char.split to split an array containing two sentences into as many elements as there are words in them"
   ]
  },
  {
   "cell_type": "code",
   "execution_count": 49,
   "metadata": {},
   "outputs": [
    {
     "name": "stdout",
     "output_type": "stream",
     "text": [
      "String: \n",
      " Help Help --- SOS\n",
      "Result: \n",
      " ['Help', 'Help', '---', 'SOS']\n"
     ]
    }
   ],
   "source": [
    "print(\"String: \\n\",string)\n",
    "split=np.char.split(string)\n",
    "print(\"Result: \\n\",split)"
   ]
  },
  {
   "cell_type": "markdown",
   "metadata": {},
   "source": [
    "Create an array containing three strings including a repeated pattern, common to the three elements. Use np.char.count to count the number of times this pattern is repeated"
   ]
  },
  {
   "cell_type": "code",
   "execution_count": 50,
   "metadata": {},
   "outputs": [
    {
     "name": "stdout",
     "output_type": "stream",
     "text": [
      "String: \n",
      " ['yolo' 'holo' 'golo']\n",
      "Result(counting o in the string): \n",
      " [2 2 2]\n"
     ]
    }
   ],
   "source": [
    "repeat=np.array((\"yolo\",\"holo\",\"golo\"))\n",
    "print(\"String: \\n\",repeat)\n",
    "count=np.char.count(repeat,\"o\")\n",
    "print(\"Result(counting o in the string): \\n\",count)"
   ]
  },
  {
   "cell_type": "markdown",
   "metadata": {},
   "source": [
    "Modify an array of length 5 by inserting elements, then removing some"
   ]
  },
  {
   "cell_type": "code",
   "execution_count": 51,
   "metadata": {},
   "outputs": [
    {
     "name": "stdout",
     "output_type": "stream",
     "text": [
      "The original matrix: \n",
      " [ 6  4 33 21 48]\n",
      "\n",
      " Removing the 2nd element from the array: \n",
      " [ 6 33 21 48]\n",
      "\n",
      " Inserting 0 as the 2nd element of the array: \n",
      " [ 6  0 33 21 48]\n"
     ]
    }
   ],
   "source": [
    "array5=np.random.randint(0,50,5)\n",
    "print(\"The original matrix: \\n\",array5)\n",
    "\n",
    "dlt=np.delete(array5,1)\n",
    "print(\"\\n Removing the 2nd element from the array: \\n\",dlt)\n",
    "ins=np.insert(dlt,1,0)\n",
    "print(\"\\n Inserting 0 as the 2nd element of the array: \\n\",ins)\n",
    "\n"
   ]
  },
  {
   "cell_type": "markdown",
   "metadata": {},
   "source": [
    "Write a NumPy program to add a border (padded with 0s) around an existing array. You need two layers of zeros all around"
   ]
  },
  {
   "cell_type": "code",
   "execution_count": 52,
   "metadata": {},
   "outputs": [
    {
     "name": "stdout",
     "output_type": "stream",
     "text": [
      "Original array: \n",
      " [[2 2 7]\n",
      " [3 2 7]\n",
      " [4 5 9]]\n",
      "Result: \n",
      " [[0 0 0 0 0 0 0]\n",
      " [0 0 0 0 0 0 0]\n",
      " [0 0 2 2 7 0 0]\n",
      " [0 0 3 2 7 0 0]\n",
      " [0 0 4 5 9 0 0]\n",
      " [0 0 0 0 0 0 0]\n",
      " [0 0 0 0 0 0 0]]\n"
     ]
    }
   ],
   "source": [
    "inside=np.random.randint(1,10,(3,3))\n",
    "print(\"Original array: \\n\",inside)\n",
    "pad=np.pad(inside,2,constant_values=0)\n",
    "print(\"Result: \\n\",pad)"
   ]
  },
  {
   "cell_type": "markdown",
   "metadata": {},
   "source": [
    "Write a NumPy program to create a 5x5 array with random values ​​and normalize it by row"
   ]
  },
  {
   "cell_type": "code",
   "execution_count": 53,
   "metadata": {},
   "outputs": [
    {
     "name": "stdout",
     "output_type": "stream",
     "text": [
      "\n",
      " the orginal array: \n",
      " [[ 1  1 19 44 30]\n",
      " [33 11 41 44 18]\n",
      " [34 47 47 41 19]\n",
      " [46 47 29  6 37]\n",
      " [11 11 32 38 49]]\n",
      "\n",
      " [66.95520891 68.27151675 78.20485918 83.86298349 73.17786551]\n"
     ]
    }
   ],
   "source": [
    "arr5=np.random.randint(0,50,(5,5))\n",
    "print(\"\\n the orginal array: \\n\", arr5)\n",
    "norm=np.linalg.norm(arr5 ,axis=0)\n",
    "print(\"\\n\",norm)"
   ]
  },
  {
   "cell_type": "markdown",
   "metadata": {},
   "source": [
    "**Pour aller plus loin que la simple maîtrise des fonctions Numpy** (ChatGPT interdit)"
   ]
  },
  {
   "cell_type": "markdown",
   "metadata": {},
   "source": [
    "Nous vous proposons quelques exercices de programmation, pour aller au-delà de la simple connaissance de fonctions"
   ]
  },
  {
   "cell_type": "markdown",
   "metadata": {},
   "source": [
    "*Exercice 1*"
   ]
  },
  {
   "cell_type": "markdown",
   "metadata": {},
   "source": [
    "Si le produit de deux nombres entiers est égal ou inférieur à 1 000, renvoyez le produit ; sinon, renvoyez leur somme. Nous attendons de vous que vous construisiez une fonction. numéro1 = 20,\n",
    "nombre2 = 30, la sortie est 600"
   ]
  },
  {
   "cell_type": "code",
   "execution_count": 54,
   "metadata": {},
   "outputs": [
    {
     "name": "stdout",
     "output_type": "stream",
     "text": [
      "600\n"
     ]
    }
   ],
   "source": [
    "def prod_sum(x,y):\n",
    "    prod = x*y\n",
    "\n",
    "    if prod <= 1000:\n",
    "        return prod\n",
    "    else:\n",
    "        return x+y\n",
    "\n",
    "\n",
    "n1 = 20\n",
    "n2 = 30\n",
    "result = prod_sum(n1, n2)\n",
    "print(result)"
   ]
  },
  {
   "cell_type": "markdown",
   "metadata": {},
   "source": [
    "*Exercice 2*"
   ]
  },
  {
   "cell_type": "markdown",
   "metadata": {},
   "source": [
    "Créez un programme qui invite l'utilisateur à saisir une chaîne, puis affiche\n",
    "les caractères situés à des positions d'index paires. Par exemple, si la chaîne est\n",
    "\"exemple\", le programme doit afficher les caractères \"x\", \"m\", \"l\"."
   ]
  },
  {
   "cell_type": "code",
   "execution_count": 55,
   "metadata": {},
   "outputs": [
    {
     "name": "stdout",
     "output_type": "stream",
     "text": [
      "Result: \n",
      " xml\n"
     ]
    }
   ],
   "source": [
    "def even_index(string):\n",
    "    even_char = string[1::2]\n",
    "    return even_char\n",
    "\n",
    "string=\"Example\"\n",
    "result = even_index(string)\n",
    "print(\"Result: \\n\", result)"
   ]
  },
  {
   "cell_type": "markdown",
   "metadata": {},
   "source": [
    "*Exercice 3*"
   ]
  },
  {
   "cell_type": "markdown",
   "metadata": {},
   "source": [
    "Créez un programme qui prend une chaîne en entrée et supprime les caractères de\n",
    "le début de la chaîne jusqu'à un index spécifié, ce qui donne une nouvelle chaîne.\n",
    "Par exemple, si nous appelons la fonction remove chars(”example”, 3), la sortie\n",
    "devrait être « mple ». Notez que l'index spécifié, noté 'n', doit être inférieur à la longueur de\n",
    "la chaîne."
   ]
  },
  {
   "cell_type": "code",
   "execution_count": 56,
   "metadata": {},
   "outputs": [
    {
     "name": "stdout",
     "output_type": "stream",
     "text": [
      "Result: mple\n"
     ]
    }
   ],
   "source": [
    "def remove_chars(string, n):\n",
    "    if n < len(string):\n",
    "        new_str = string[n:]\n",
    "        return new_str\n",
    "    else:\n",
    "        return \"Index out of bound\"\n",
    "\n",
    "\n",
    "input = \"example\"\n",
    "index = 3\n",
    "\n",
    "result = remove_chars(input, index)\n",
    "print(\"Result:\", result)"
   ]
  },
  {
   "cell_type": "markdown",
   "metadata": {},
   "source": [
    "*Exercice 4*"
   ]
  },
  {
   "cell_type": "markdown",
   "metadata": {},
   "source": [
    "Itérer la liste de nombres donnée et imprimer uniquement les nombres divisibles\n",
    "par 5:  la liste donnée est [10, 20, 33, 46, 55] Divisible par 5 : 10, 20, 55"
   ]
  },
  {
   "cell_type": "code",
   "execution_count": 57,
   "metadata": {},
   "outputs": [
    {
     "name": "stdout",
     "output_type": "stream",
     "text": [
      "10 20 55 "
     ]
    }
   ],
   "source": [
    "def print_divisible_by_five(numbers):\n",
    "    for num in numbers:\n",
    "        if num % 5 == 0:\n",
    "            print(num, end=\" \")\n",
    "\n",
    "# Example usage\n",
    "numbers_list = [10, 20, 33, 46, 55]\n",
    "print_divisible_by_five(numbers_list)"
   ]
  },
  {
   "cell_type": "code",
   "execution_count": 58,
   "metadata": {},
   "outputs": [
    {
     "name": "stdout",
     "output_type": "stream",
     "text": [
      "10 20 55 "
     ]
    }
   ],
   "source": [
    "def div_5(list):\n",
    "    for i in list:\n",
    "        if (i%5==0):\n",
    "            print (i,end=\" \")\n",
    "\n",
    "list=[10, 20, 33, 46, 55]\n",
    "div_5(list)"
   ]
  },
  {
   "cell_type": "markdown",
   "metadata": {},
   "source": [
    "*Exercice 5*"
   ]
  },
  {
   "cell_type": "markdown",
   "metadata": {},
   "source": [
    "Développer un programme qui détermine le nombre d'occurrences de la sous-chaîne\n",
    "\"Emma\" dans une chaîne donnée.\n",
    "• Donné : « Emma est une bonne développeuse. Emma est institutrice. »\n",
    "• Résultat attendu : Emma est apparue 2 fois\n",
    "Faites-le une fois avec la méthode « count » de chaîne, une fois sans."
   ]
  },
  {
   "cell_type": "code",
   "execution_count": 59,
   "metadata": {},
   "outputs": [
    {
     "name": "stdout",
     "output_type": "stream",
     "text": [
      "Using count method , Result: \n",
      " Emma est apparue 2 fois\n"
     ]
    }
   ],
   "source": [
    "def count_with(string, substring):\n",
    "    count = string.count(substring)\n",
    "    return count\n",
    "\n",
    "string = \"Emma est une bonne développeuse. Emma est institutrice.\"\n",
    "substring =\"Emma\"\n",
    "\n",
    "result= count_with(string,substring)\n",
    "print(f'Using count method , Result: \\n Emma est apparue {result} fois')"
   ]
  },
  {
   "cell_type": "code",
   "execution_count": null,
   "metadata": {},
   "outputs": [],
   "source": []
  },
  {
   "cell_type": "markdown",
   "metadata": {},
   "source": [
    "*Exercice 6*"
   ]
  },
  {
   "cell_type": "markdown",
   "metadata": {},
   "source": [
    "Écrivez un programme pour vérifier si le nombre donné est un nombre palindrome.\n",
    "Un nombre palindrome est un nombre qui est le même après l'inverse. Par exemple\n",
    "545, ce sont les nombres palindromes\n",
    "Production attendue:\n",
    "• numéro original 121 : Oui. le nombre donné est le numéro du palindrome\n",
    "• numéro d'origine 125 : le numéro donné n'est pas un numéro palindrome"
   ]
  },
  {
   "cell_type": "code",
   "execution_count": 60,
   "metadata": {},
   "outputs": [
    {
     "name": "stdout",
     "output_type": "stream",
     "text": [
      "for number 121 - Oui. le nombre donné est le numéro du palindrome\n",
      "for number 125 - le numéro donné n'est pas un numéro palindrome\n"
     ]
    }
   ],
   "source": [
    "def palindrome_check(palindrome):\n",
    "    import array as np\n",
    "    p_str = str(palindrome)\n",
    "    for i in range(len(p_str)//2):\n",
    "        if p_str[i] != p_str[-(i+1)]:\n",
    "            return \"le numéro donné n'est pas un numéro palindrome\"\n",
    "    return \"Oui. le nombre donné est le numéro du palindrome\"\n",
    "\n",
    "n1=121\n",
    "n2=125\n",
    "\n",
    "print(\"for number\",n1,\"-\", palindrome_check(n1))\n",
    "print(\"for number\",n2,\"-\", palindrome_check(n2))"
   ]
  },
  {
   "cell_type": "markdown",
   "metadata": {},
   "source": [
    "*Exercice 7*"
   ]
  },
  {
   "cell_type": "markdown",
   "metadata": {},
   "source": [
    "Écrivez une boucle while pour afficher chaque caractère d'une chaîne et, si un caractère est\n",
    "numéro : arrêter la boucle."
   ]
  },
  {
   "cell_type": "code",
   "execution_count": 61,
   "metadata": {},
   "outputs": [
    {
     "name": "stdout",
     "output_type": "stream",
     "text": [
      "y\n",
      "e\n",
      "p\n",
      "Found a number '4'\n"
     ]
    }
   ],
   "source": [
    "string = \"yep4no\"\n",
    "index = 0\n",
    "\n",
    "while index < len(string):\n",
    "    char = string[index]\n",
    "\n",
    "    if char.isdigit():\n",
    "        print(f\"Found a number '{char}'\")\n",
    "        break\n",
    "\n",
    "    print(char)\n",
    "    index += 1\n",
    "\n"
   ]
  }
 ],
 "metadata": {
  "kernelspec": {
   "display_name": "Python 3",
   "language": "python",
   "name": "python3"
  },
  "language_info": {
   "codemirror_mode": {
    "name": "ipython",
    "version": 3
   },
   "file_extension": ".py",
   "mimetype": "text/x-python",
   "name": "python",
   "nbconvert_exporter": "python",
   "pygments_lexer": "ipython3",
   "version": "3.10.4"
  }
 },
 "nbformat": 4,
 "nbformat_minor": 2
}
